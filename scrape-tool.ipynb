{
 "cells": [
  {
   "cell_type": "code",
   "execution_count": 28,
   "metadata": {},
   "outputs": [],
   "source": [
    "import requests\n",
    "from bs4 import BeautifulSoup\n",
    "\n",
    "def get_faculty(start_page=1,end_page=38):\n",
    "    fac_details = []\n",
    "    end_page = min(end_page,38)\n",
    "    for page_num in range(start_page,end_page+1):\n",
    "        try:\n",
    "            fac_url = \"https://pes.edu/faculty/page/{}/\".format(page_num)\n",
    "            soup = BeautifulSoup(requests.get(fac_url).text)\n",
    "        except:\n",
    "            print(\"Failed to fetch page {}\".format(page_num))\n",
    "            continue\n",
    "        try:\n",
    "            fac_html = soup.find_all(\"div\",class_=\"member-item-inner\")\n",
    "        except:\n",
    "            print(\"failed to parse page {}\".format(page_no))\n",
    "            continue\n",
    "            \n",
    "        for f in fac_html:\n",
    "            fac_obj = {}\n",
    "            fac_obj['img_url'] = f.img['src']\n",
    "            a = f.find('h3',class_='item-title')\n",
    "            try:\n",
    "                fac_obj['name'] = f.find('h3',class_='item-title').text\n",
    "            except:\n",
    "                fac_obj['name'] = \"\"\n",
    "            fac_obj['title'] = f.find('h3',class_='small-text')\n",
    "            if fac_obj is None:\n",
    "                fac_obj['title'] = \"\"\n",
    "            try:\n",
    "                fac_obj['faculty_url'] = f.find('a')['href']\n",
    "            except:\n",
    "                fac_obj['faculty_url'] = \"\"\n",
    "            \n",
    "            fac_obj['_id'] = fac_obj['name']\n",
    "            fac_obj['type'] = 'professor'\n",
    "            fac_details.append(fac_obj)\n",
    "            \n",
    "    return fac_details"
   ]
  },
  {
   "cell_type": "code",
   "execution_count": 29,
   "metadata": {},
   "outputs": [],
   "source": [
    "f = get_faculty()\n",
    "couchdb_url = \"http://127.0.0.1:5984/professors\"\n",
    "for fac in f:\n",
    "    requests.post(couchdb_url,json=fac)"
   ]
  },
  {
   "cell_type": "code",
   "execution_count": null,
   "metadata": {},
   "outputs": [],
   "source": []
  }
 ],
 "metadata": {
  "kernelspec": {
   "display_name": "Python 3",
   "language": "python",
   "name": "python3"
  },
  "language_info": {
   "codemirror_mode": {
    "name": "ipython",
    "version": 3
   },
   "file_extension": ".py",
   "mimetype": "text/x-python",
   "name": "python",
   "nbconvert_exporter": "python",
   "pygments_lexer": "ipython3",
   "version": "3.6.5"
  }
 },
 "nbformat": 4,
 "nbformat_minor": 2
}
